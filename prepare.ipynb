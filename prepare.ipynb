{
 "metadata": {
  "language_info": {
   "codemirror_mode": {
    "name": "ipython",
    "version": 3
   },
   "file_extension": ".py",
   "mimetype": "text/x-python",
   "name": "python",
   "nbconvert_exporter": "python",
   "pygments_lexer": "ipython3",
   "version": "3.8.2-final"
  },
  "orig_nbformat": 2,
  "kernelspec": {
   "name": "python3",
   "display_name": "Python 3",
   "language": "python"
  }
 },
 "nbformat": 4,
 "nbformat_minor": 2,
 "cells": [
  {
   "cell_type": "code",
   "execution_count": 1,
   "metadata": {},
   "outputs": [
    {
     "output_type": "execute_result",
     "data": {
      "text/plain": [
       "(1025, 22)"
      ]
     },
     "metadata": {},
     "execution_count": 1
    }
   ],
   "source": [
    "import pandas as pd\n",
    "df = pd.read_csv('2020-QS-World-University-Rankings.csv')\n",
    "df.shape"
   ]
  },
  {
   "source": [
    "## 1. All universities without NAN"
   ],
   "cell_type": "markdown",
   "metadata": {}
  },
  {
   "cell_type": "code",
   "execution_count": 48,
   "metadata": {},
   "outputs": [
    {
     "output_type": "execute_result",
     "data": {
      "text/plain": [
       "     Rank in 2020                              Institution Name  \\\n",
       "1               1   Massachusetts Institute of Technology (MIT)   \n",
       "2               2                           Stanford University   \n",
       "3               3                            Harvard University   \n",
       "4               4                          University of Oxford   \n",
       "5               5  California Institute of Technology (Caltech)   \n",
       "...           ...                                           ...   \n",
       "998      801-1000            Warsaw University of Life Sciences   \n",
       "999      801-1000  Wroc?aw University of Science and Technology   \n",
       "1000     801-1000                Wuhan University of Technology   \n",
       "1001     801-1000           Xi'an Jiaotong-Liverpool University   \n",
       "1002     801-1000                           Yeungnam University   \n",
       "\n",
       "             Country Overall Score  \n",
       "1      United States           100  \n",
       "2      United States          98.4  \n",
       "3      United States          97.4  \n",
       "4     United Kingdom          97.2  \n",
       "5      United States          96.9  \n",
       "...              ...           ...  \n",
       "998           Poland      9 - 14.1  \n",
       "999           Poland      9 - 14.1  \n",
       "1000           China      9 - 14.1  \n",
       "1001           China      9 - 14.1  \n",
       "1002     South Korea      9 - 14.1  \n",
       "\n",
       "[1002 rows x 4 columns]"
      ],
      "text/html": "<div>\n<style scoped>\n    .dataframe tbody tr th:only-of-type {\n        vertical-align: middle;\n    }\n\n    .dataframe tbody tr th {\n        vertical-align: top;\n    }\n\n    .dataframe thead th {\n        text-align: right;\n    }\n</style>\n<table border=\"1\" class=\"dataframe\">\n  <thead>\n    <tr style=\"text-align: right;\">\n      <th></th>\n      <th>Rank in 2020</th>\n      <th>Institution Name</th>\n      <th>Country</th>\n      <th>Overall Score</th>\n    </tr>\n  </thead>\n  <tbody>\n    <tr>\n      <th>1</th>\n      <td>1</td>\n      <td>Massachusetts Institute of Technology (MIT)</td>\n      <td>United States</td>\n      <td>100</td>\n    </tr>\n    <tr>\n      <th>2</th>\n      <td>2</td>\n      <td>Stanford University</td>\n      <td>United States</td>\n      <td>98.4</td>\n    </tr>\n    <tr>\n      <th>3</th>\n      <td>3</td>\n      <td>Harvard University</td>\n      <td>United States</td>\n      <td>97.4</td>\n    </tr>\n    <tr>\n      <th>4</th>\n      <td>4</td>\n      <td>University of Oxford</td>\n      <td>United Kingdom</td>\n      <td>97.2</td>\n    </tr>\n    <tr>\n      <th>5</th>\n      <td>5</td>\n      <td>California Institute of Technology (Caltech)</td>\n      <td>United States</td>\n      <td>96.9</td>\n    </tr>\n    <tr>\n      <th>...</th>\n      <td>...</td>\n      <td>...</td>\n      <td>...</td>\n      <td>...</td>\n    </tr>\n    <tr>\n      <th>998</th>\n      <td>801-1000</td>\n      <td>Warsaw University of Life Sciences</td>\n      <td>Poland</td>\n      <td>9 - 14.1</td>\n    </tr>\n    <tr>\n      <th>999</th>\n      <td>801-1000</td>\n      <td>Wroc?aw University of Science and Technology</td>\n      <td>Poland</td>\n      <td>9 - 14.1</td>\n    </tr>\n    <tr>\n      <th>1000</th>\n      <td>801-1000</td>\n      <td>Wuhan University of Technology</td>\n      <td>China</td>\n      <td>9 - 14.1</td>\n    </tr>\n    <tr>\n      <th>1001</th>\n      <td>801-1000</td>\n      <td>Xi'an Jiaotong-Liverpool University</td>\n      <td>China</td>\n      <td>9 - 14.1</td>\n    </tr>\n    <tr>\n      <th>1002</th>\n      <td>801-1000</td>\n      <td>Yeungnam University</td>\n      <td>South Korea</td>\n      <td>9 - 14.1</td>\n    </tr>\n  </tbody>\n</table>\n<p>1002 rows × 4 columns</p>\n</div>"
     },
     "metadata": {},
     "execution_count": 48
    }
   ],
   "source": [
    "df2 = df[['Rank in 2020', 'Institution Name', 'Country', 'Overall Score']]\n",
    "df2 = df2.dropna()\n",
    "df2"
   ]
  },
  {
   "source": [
    "### 1.1 Assign the average score  to the interval score values "
   ],
   "cell_type": "markdown",
   "metadata": {}
  },
  {
   "cell_type": "code",
   "execution_count": 49,
   "metadata": {},
   "outputs": [
    {
     "output_type": "execute_result",
     "data": {
      "text/plain": [
       "     Rank in 2020                              Institution Name  \\\n",
       "1               1   Massachusetts Institute of Technology (MIT)   \n",
       "2               2                           Stanford University   \n",
       "3               3                            Harvard University   \n",
       "4               4                          University of Oxford   \n",
       "5               5  California Institute of Technology (Caltech)   \n",
       "...           ...                                           ...   \n",
       "998      801-1000            Warsaw University of Life Sciences   \n",
       "999      801-1000  Wroc?aw University of Science and Technology   \n",
       "1000     801-1000                Wuhan University of Technology   \n",
       "1001     801-1000           Xi'an Jiaotong-Liverpool University   \n",
       "1002     801-1000                           Yeungnam University   \n",
       "\n",
       "             Country Overall Score  Ave_score  \n",
       "1      United States           100     100.00  \n",
       "2      United States          98.4      98.40  \n",
       "3      United States          97.4      97.40  \n",
       "4     United Kingdom          97.2      97.20  \n",
       "5      United States          96.9      96.90  \n",
       "...              ...           ...        ...  \n",
       "998           Poland      9 - 14.1      11.55  \n",
       "999           Poland      9 - 14.1      11.55  \n",
       "1000           China      9 - 14.1      11.55  \n",
       "1001           China      9 - 14.1      11.55  \n",
       "1002     South Korea      9 - 14.1      11.55  \n",
       "\n",
       "[1002 rows x 5 columns]"
      ],
      "text/html": "<div>\n<style scoped>\n    .dataframe tbody tr th:only-of-type {\n        vertical-align: middle;\n    }\n\n    .dataframe tbody tr th {\n        vertical-align: top;\n    }\n\n    .dataframe thead th {\n        text-align: right;\n    }\n</style>\n<table border=\"1\" class=\"dataframe\">\n  <thead>\n    <tr style=\"text-align: right;\">\n      <th></th>\n      <th>Rank in 2020</th>\n      <th>Institution Name</th>\n      <th>Country</th>\n      <th>Overall Score</th>\n      <th>Ave_score</th>\n    </tr>\n  </thead>\n  <tbody>\n    <tr>\n      <th>1</th>\n      <td>1</td>\n      <td>Massachusetts Institute of Technology (MIT)</td>\n      <td>United States</td>\n      <td>100</td>\n      <td>100.00</td>\n    </tr>\n    <tr>\n      <th>2</th>\n      <td>2</td>\n      <td>Stanford University</td>\n      <td>United States</td>\n      <td>98.4</td>\n      <td>98.40</td>\n    </tr>\n    <tr>\n      <th>3</th>\n      <td>3</td>\n      <td>Harvard University</td>\n      <td>United States</td>\n      <td>97.4</td>\n      <td>97.40</td>\n    </tr>\n    <tr>\n      <th>4</th>\n      <td>4</td>\n      <td>University of Oxford</td>\n      <td>United Kingdom</td>\n      <td>97.2</td>\n      <td>97.20</td>\n    </tr>\n    <tr>\n      <th>5</th>\n      <td>5</td>\n      <td>California Institute of Technology (Caltech)</td>\n      <td>United States</td>\n      <td>96.9</td>\n      <td>96.90</td>\n    </tr>\n    <tr>\n      <th>...</th>\n      <td>...</td>\n      <td>...</td>\n      <td>...</td>\n      <td>...</td>\n      <td>...</td>\n    </tr>\n    <tr>\n      <th>998</th>\n      <td>801-1000</td>\n      <td>Warsaw University of Life Sciences</td>\n      <td>Poland</td>\n      <td>9 - 14.1</td>\n      <td>11.55</td>\n    </tr>\n    <tr>\n      <th>999</th>\n      <td>801-1000</td>\n      <td>Wroc?aw University of Science and Technology</td>\n      <td>Poland</td>\n      <td>9 - 14.1</td>\n      <td>11.55</td>\n    </tr>\n    <tr>\n      <th>1000</th>\n      <td>801-1000</td>\n      <td>Wuhan University of Technology</td>\n      <td>China</td>\n      <td>9 - 14.1</td>\n      <td>11.55</td>\n    </tr>\n    <tr>\n      <th>1001</th>\n      <td>801-1000</td>\n      <td>Xi'an Jiaotong-Liverpool University</td>\n      <td>China</td>\n      <td>9 - 14.1</td>\n      <td>11.55</td>\n    </tr>\n    <tr>\n      <th>1002</th>\n      <td>801-1000</td>\n      <td>Yeungnam University</td>\n      <td>South Korea</td>\n      <td>9 - 14.1</td>\n      <td>11.55</td>\n    </tr>\n  </tbody>\n</table>\n<p>1002 rows × 5 columns</p>\n</div>"
     },
     "metadata": {},
     "execution_count": 49
    }
   ],
   "source": [
    "import numpy as np\n",
    "\n",
    "scores = np.zeros(df2.shape[0])\n",
    "for i, score in enumerate(df2['Overall Score']):\n",
    "    s = score.split(' - ')\n",
    "    if len(s) == 1:\n",
    "        scores[i] = float(s[0])\n",
    "    else:\n",
    "        scores[i] = (float(s[0]) + float(s[1])) / 2\n",
    "\n",
    "df2['Ave_score'] = scores\n",
    "df2\n"
   ]
  },
  {
   "cell_type": "code",
   "execution_count": 41,
   "metadata": {},
   "outputs": [
    {
     "output_type": "execute_result",
     "data": {
      "text/plain": [
       "1356.8"
      ]
     },
     "metadata": {},
     "execution_count": 41
    }
   ],
   "source": [
    "df2[df2['Country']=='Australia']['Ave_score'].sum() / 35"
   ]
  },
  {
   "source": [
    "### 1.2 Group universities by Country"
   ],
   "cell_type": "markdown",
   "metadata": {}
  },
  {
   "cell_type": "code",
   "execution_count": 55,
   "metadata": {},
   "outputs": [
    {
     "output_type": "execute_result",
     "data": {
      "text/plain": [
       "           Country  Count  Ave_score\n",
       "0        Argentina     13  23.511538\n",
       "1        Australia     35  38.765714\n",
       "2          Austria      8  30.943750\n",
       "3       Azerbaijan      1  11.550000\n",
       "4          Bahrain      1  11.550000\n",
       "..             ...    ...        ...\n",
       "77  United Kingdom     84  36.569643\n",
       "78   United States    157  36.154459\n",
       "79         Uruguay      2  17.925000\n",
       "80       Venezuela      4  12.637500\n",
       "81         Vietnam      2  13.725000\n",
       "\n",
       "[82 rows x 3 columns]"
      ],
      "text/html": "<div>\n<style scoped>\n    .dataframe tbody tr th:only-of-type {\n        vertical-align: middle;\n    }\n\n    .dataframe tbody tr th {\n        vertical-align: top;\n    }\n\n    .dataframe thead th {\n        text-align: right;\n    }\n</style>\n<table border=\"1\" class=\"dataframe\">\n  <thead>\n    <tr style=\"text-align: right;\">\n      <th></th>\n      <th>Country</th>\n      <th>Count</th>\n      <th>Ave_score</th>\n    </tr>\n  </thead>\n  <tbody>\n    <tr>\n      <th>0</th>\n      <td>Argentina</td>\n      <td>13</td>\n      <td>23.511538</td>\n    </tr>\n    <tr>\n      <th>1</th>\n      <td>Australia</td>\n      <td>35</td>\n      <td>38.765714</td>\n    </tr>\n    <tr>\n      <th>2</th>\n      <td>Austria</td>\n      <td>8</td>\n      <td>30.943750</td>\n    </tr>\n    <tr>\n      <th>3</th>\n      <td>Azerbaijan</td>\n      <td>1</td>\n      <td>11.550000</td>\n    </tr>\n    <tr>\n      <th>4</th>\n      <td>Bahrain</td>\n      <td>1</td>\n      <td>11.550000</td>\n    </tr>\n    <tr>\n      <th>...</th>\n      <td>...</td>\n      <td>...</td>\n      <td>...</td>\n    </tr>\n    <tr>\n      <th>77</th>\n      <td>United Kingdom</td>\n      <td>84</td>\n      <td>36.569643</td>\n    </tr>\n    <tr>\n      <th>78</th>\n      <td>United States</td>\n      <td>157</td>\n      <td>36.154459</td>\n    </tr>\n    <tr>\n      <th>79</th>\n      <td>Uruguay</td>\n      <td>2</td>\n      <td>17.925000</td>\n    </tr>\n    <tr>\n      <th>80</th>\n      <td>Venezuela</td>\n      <td>4</td>\n      <td>12.637500</td>\n    </tr>\n    <tr>\n      <th>81</th>\n      <td>Vietnam</td>\n      <td>2</td>\n      <td>13.725000</td>\n    </tr>\n  </tbody>\n</table>\n<p>82 rows × 3 columns</p>\n</div>"
     },
     "metadata": {},
     "execution_count": 55
    }
   ],
   "source": [
    "df_grouped = df2.groupby(by='Country').agg({'Ave_score': 'mean'})\n",
    "df_count = df2.groupby(by='Country').count()\n",
    "\n",
    "df_count_by_country = pd.DataFrame({'Country': df_grouped.index, 'Count': df_count['Institution Name'].values, 'Ave_score': df_grouped['Ave_score'].values})\n",
    "\n",
    "df_count_by_country"
   ]
  },
  {
   "source": [
    "### 1.3 Add hover text"
   ],
   "cell_type": "markdown",
   "metadata": {}
  },
  {
   "cell_type": "code",
   "execution_count": 67,
   "metadata": {},
   "outputs": [
    {
     "output_type": "execute_result",
     "data": {
      "text/plain": [
       "           Country  Count  Ave_score  \\\n",
       "0        Argentina     13  23.511538   \n",
       "1        Australia     35  38.765714   \n",
       "2          Austria      8  30.943750   \n",
       "3       Azerbaijan      1  11.550000   \n",
       "4          Bahrain      1  11.550000   \n",
       "..             ...    ...        ...   \n",
       "77  United Kingdom     84  36.569643   \n",
       "78   United States    157  36.154459   \n",
       "79         Uruguay      2  17.925000   \n",
       "80       Venezuela      4  12.637500   \n",
       "81         Vietnam      2  13.725000   \n",
       "\n",
       "                                           Hover_text  \n",
       "0   Argentina<br><br>Universities: 13<br>Average s...  \n",
       "1   Australia<br><br>Universities: 35<br>Average s...  \n",
       "2   Austria<br><br>Universities: 8<br>Average scor...  \n",
       "3   Azerbaijan<br><br>Universities: 1<br>Average s...  \n",
       "4   Bahrain<br><br>Universities: 1<br>Average scor...  \n",
       "..                                                ...  \n",
       "77  United Kingdom<br><br>Universities: 84<br>Aver...  \n",
       "78  United States<br><br>Universities: 157<br>Aver...  \n",
       "79  Uruguay<br><br>Universities: 2<br>Average scor...  \n",
       "80  Venezuela<br><br>Universities: 4<br>Average sc...  \n",
       "81  Vietnam<br><br>Universities: 2<br>Average scor...  \n",
       "\n",
       "[82 rows x 4 columns]"
      ],
      "text/html": "<div>\n<style scoped>\n    .dataframe tbody tr th:only-of-type {\n        vertical-align: middle;\n    }\n\n    .dataframe tbody tr th {\n        vertical-align: top;\n    }\n\n    .dataframe thead th {\n        text-align: right;\n    }\n</style>\n<table border=\"1\" class=\"dataframe\">\n  <thead>\n    <tr style=\"text-align: right;\">\n      <th></th>\n      <th>Country</th>\n      <th>Count</th>\n      <th>Ave_score</th>\n      <th>Hover_text</th>\n    </tr>\n  </thead>\n  <tbody>\n    <tr>\n      <th>0</th>\n      <td>Argentina</td>\n      <td>13</td>\n      <td>23.511538</td>\n      <td>Argentina&lt;br&gt;&lt;br&gt;Universities: 13&lt;br&gt;Average s...</td>\n    </tr>\n    <tr>\n      <th>1</th>\n      <td>Australia</td>\n      <td>35</td>\n      <td>38.765714</td>\n      <td>Australia&lt;br&gt;&lt;br&gt;Universities: 35&lt;br&gt;Average s...</td>\n    </tr>\n    <tr>\n      <th>2</th>\n      <td>Austria</td>\n      <td>8</td>\n      <td>30.943750</td>\n      <td>Austria&lt;br&gt;&lt;br&gt;Universities: 8&lt;br&gt;Average scor...</td>\n    </tr>\n    <tr>\n      <th>3</th>\n      <td>Azerbaijan</td>\n      <td>1</td>\n      <td>11.550000</td>\n      <td>Azerbaijan&lt;br&gt;&lt;br&gt;Universities: 1&lt;br&gt;Average s...</td>\n    </tr>\n    <tr>\n      <th>4</th>\n      <td>Bahrain</td>\n      <td>1</td>\n      <td>11.550000</td>\n      <td>Bahrain&lt;br&gt;&lt;br&gt;Universities: 1&lt;br&gt;Average scor...</td>\n    </tr>\n    <tr>\n      <th>...</th>\n      <td>...</td>\n      <td>...</td>\n      <td>...</td>\n      <td>...</td>\n    </tr>\n    <tr>\n      <th>77</th>\n      <td>United Kingdom</td>\n      <td>84</td>\n      <td>36.569643</td>\n      <td>United Kingdom&lt;br&gt;&lt;br&gt;Universities: 84&lt;br&gt;Aver...</td>\n    </tr>\n    <tr>\n      <th>78</th>\n      <td>United States</td>\n      <td>157</td>\n      <td>36.154459</td>\n      <td>United States&lt;br&gt;&lt;br&gt;Universities: 157&lt;br&gt;Aver...</td>\n    </tr>\n    <tr>\n      <th>79</th>\n      <td>Uruguay</td>\n      <td>2</td>\n      <td>17.925000</td>\n      <td>Uruguay&lt;br&gt;&lt;br&gt;Universities: 2&lt;br&gt;Average scor...</td>\n    </tr>\n    <tr>\n      <th>80</th>\n      <td>Venezuela</td>\n      <td>4</td>\n      <td>12.637500</td>\n      <td>Venezuela&lt;br&gt;&lt;br&gt;Universities: 4&lt;br&gt;Average sc...</td>\n    </tr>\n    <tr>\n      <th>81</th>\n      <td>Vietnam</td>\n      <td>2</td>\n      <td>13.725000</td>\n      <td>Vietnam&lt;br&gt;&lt;br&gt;Universities: 2&lt;br&gt;Average scor...</td>\n    </tr>\n  </tbody>\n</table>\n<p>82 rows × 4 columns</p>\n</div>"
     },
     "metadata": {},
     "execution_count": 67
    }
   ],
   "source": [
    "df_count_by_country['Hover_text'] = [f'{country}<br><br>Universities: {count}<br>Average score: {score:.2f}' for country,count,score in df_count_by_country[['Country', 'Count', 'Ave_score']].values]\n",
    "\n",
    "df_count_by_country"
   ]
  },
  {
   "source": [
    "### 1.2 Write to CSV"
   ],
   "cell_type": "markdown",
   "metadata": {}
  },
  {
   "cell_type": "code",
   "execution_count": 68,
   "metadata": {},
   "outputs": [],
   "source": [
    "df_count_by_country.to_csv(r'./count_by_country.csv', header=True, index=False)"
   ]
  },
  {
   "source": [
    "## 2. Top 500 universities"
   ],
   "cell_type": "markdown",
   "metadata": {}
  },
  {
   "cell_type": "code",
   "execution_count": 3,
   "metadata": {},
   "outputs": [
    {
     "output_type": "execute_result",
     "data": {
      "text/plain": [
       "     Rank in 2020                              Institution Name  \\\n",
       "1               1   Massachusetts Institute of Technology (MIT)   \n",
       "2               2                           Stanford University   \n",
       "3               3                            Harvard University   \n",
       "4               4                          University of Oxford   \n",
       "5               5  California Institute of Technology (Caltech)   \n",
       "..            ...                                           ...   \n",
       "496           491                        University of Delaware   \n",
       "497           491      V.N. Karazin Kharkiv National University   \n",
       "498           498          Czech Technical University In Prague   \n",
       "499           498                     Universit� de Montpellier   \n",
       "500           498                 University of Eastern Finland   \n",
       "\n",
       "            Country Overall Score  \n",
       "1     United States           100  \n",
       "2     United States          98.4  \n",
       "3     United States          97.4  \n",
       "4    United Kingdom          97.2  \n",
       "5     United States          96.9  \n",
       "..              ...           ...  \n",
       "496   United States          24.3  \n",
       "497         Ukraine          24.3  \n",
       "498  Czech Republic          24.2  \n",
       "499          France          24.2  \n",
       "500         Finland          24.2  \n",
       "\n",
       "[500 rows x 4 columns]"
      ],
      "text/html": "<div>\n<style scoped>\n    .dataframe tbody tr th:only-of-type {\n        vertical-align: middle;\n    }\n\n    .dataframe tbody tr th {\n        vertical-align: top;\n    }\n\n    .dataframe thead th {\n        text-align: right;\n    }\n</style>\n<table border=\"1\" class=\"dataframe\">\n  <thead>\n    <tr style=\"text-align: right;\">\n      <th></th>\n      <th>Rank in 2020</th>\n      <th>Institution Name</th>\n      <th>Country</th>\n      <th>Overall Score</th>\n    </tr>\n  </thead>\n  <tbody>\n    <tr>\n      <th>1</th>\n      <td>1</td>\n      <td>Massachusetts Institute of Technology (MIT)</td>\n      <td>United States</td>\n      <td>100</td>\n    </tr>\n    <tr>\n      <th>2</th>\n      <td>2</td>\n      <td>Stanford University</td>\n      <td>United States</td>\n      <td>98.4</td>\n    </tr>\n    <tr>\n      <th>3</th>\n      <td>3</td>\n      <td>Harvard University</td>\n      <td>United States</td>\n      <td>97.4</td>\n    </tr>\n    <tr>\n      <th>4</th>\n      <td>4</td>\n      <td>University of Oxford</td>\n      <td>United Kingdom</td>\n      <td>97.2</td>\n    </tr>\n    <tr>\n      <th>5</th>\n      <td>5</td>\n      <td>California Institute of Technology (Caltech)</td>\n      <td>United States</td>\n      <td>96.9</td>\n    </tr>\n    <tr>\n      <th>...</th>\n      <td>...</td>\n      <td>...</td>\n      <td>...</td>\n      <td>...</td>\n    </tr>\n    <tr>\n      <th>496</th>\n      <td>491</td>\n      <td>University of Delaware</td>\n      <td>United States</td>\n      <td>24.3</td>\n    </tr>\n    <tr>\n      <th>497</th>\n      <td>491</td>\n      <td>V.N. Karazin Kharkiv National University</td>\n      <td>Ukraine</td>\n      <td>24.3</td>\n    </tr>\n    <tr>\n      <th>498</th>\n      <td>498</td>\n      <td>Czech Technical University In Prague</td>\n      <td>Czech Republic</td>\n      <td>24.2</td>\n    </tr>\n    <tr>\n      <th>499</th>\n      <td>498</td>\n      <td>Universit� de Montpellier</td>\n      <td>France</td>\n      <td>24.2</td>\n    </tr>\n    <tr>\n      <th>500</th>\n      <td>498</td>\n      <td>University of Eastern Finland</td>\n      <td>Finland</td>\n      <td>24.2</td>\n    </tr>\n  </tbody>\n</table>\n<p>500 rows × 4 columns</p>\n</div>"
     },
     "metadata": {},
     "execution_count": 3
    }
   ],
   "source": [
    "df1 = df[['Rank in 2020', 'Institution Name', 'Country', 'Overall Score']]\n",
    "df1 = df1.drop(index=0)\n",
    "df1 = df1.iloc[range(500)]\n",
    "\n",
    "df1['Rank in 2020'] = [int(x) if x.isnumeric() else int(x.strip()[:-1]) for x in df1['Rank in 2020']]\n",
    "\n",
    "df1"
   ]
  },
  {
   "cell_type": "code",
   "execution_count": 4,
   "metadata": {},
   "outputs": [],
   "source": [
    "# Export modified df\n",
    "df1.to_csv(r'./university_ranking_2021.csv', header=True, index=False) "
   ]
  }
 ]
}